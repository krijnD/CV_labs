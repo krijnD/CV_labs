{
 "cells": [
  {
   "cell_type": "markdown",
   "metadata": {
    "id": "9JZyMDgJY3iM"
   },
   "source": [
    "<center><img src=\"https://miro.medium.com/v2/resize:fit:300/0*gTbWMTKvNF-jLJrM.jpg\" width=30% ></center>\n",
    "\n",
    "# <center> Assignment 3: Harris Corner Detector & Optical Flow </center>\n",
    "<center> Computer Vision 1, University of Amsterdam </center>\n",
    "    <center> Due 23:59PM, September 30, 2023 (Amsterdam time) </center>\n",
    "    \n",
    "  ***\n",
    "<center>\n",
    "<b>TA's: Melis Öcal, Ronny Velastegui Sandoval</b>\n",
    "\n",
    "Student1 ID: \\\n",
    "Student1 Name:\n",
    "\n",
    "Student2 ID: \\\n",
    "Student2 Name:\n",
    "\n",
    "Student3 ID: \\\n",
    "Student3 Name:\n",
    "\n",
    "( Student4 ID: \\\n",
    "Student4 Name: )\n",
    "\n"
   ]
  },
  {
   "cell_type": "markdown",
   "metadata": {
    "id": "pd-F1NrMk3ao"
   },
   "source": [
    "# General Guidelines"
   ]
  },
  {
   "cell_type": "markdown",
   "metadata": {
    "id": "KlpJn7y8k57L"
   },
   "source": [
    "Your code and discussion must be handed in this jupyter notebook, renamed to **StudentID1_StudentID2_StudentID3.ipynb** before the deadline by submitting it to the Canvas Lab 3 Assignment. Please also fill out your names and ID's above.\n",
    "\n",
    "For full credit, make sure your notebook follows these guidelines:\n",
    "- It is mandatory to use the Python environment provided with the assignment; the environment specifies the package versions that have to be used to prevent the use of particular functions. Using different packages versions may lead to grade deduction. In the 'Environment Setup' below you can check whether your environment is set up correctly.\n",
    "- To install the environment with the right package versions, use the following command in your terminal: ```python\n",
    "conda env create --file=CV1_environment.yaml```, then activate the environment using the command ```python conda activate cv1```.\n",
    "- Please express your thoughts concisely. The number of words does not necessarily correlate with how well you understand the concepts.\n",
    "- Answer all given questions and sub-questions.\n",
    "- Try to understand the problem as much as you can. When answering a question, give evidences (qualitative and/or quantitative results, references to papers, figures etc.) to support your arguments. Note that not everything might be explicitly asked for and you are expected to think about what might strengthen you arguments and make the notebook self-contained and complete.\n",
    "- Tables and figures must be accompanied by a brief description. Do not forget to add a number, a title, and if applicable name and unit of variables in a table, name and unit of axes and legends in a figure.\n",
    "\n",
    "__Note:__ A more complete overview of the lab requirements can be found in the Course Manual on Canvas\n",
    "\n",
    "Late submissions are not allowed. Assignments that are submitted after the strict deadline will not be graded. In case of submission conflicts, TAs’ system clock is taken as reference. We strongly recommend submitting well in advance, to avoid last minute system failure issues.\n",
    "\n",
    "Plagiarism note: Keep in mind that plagiarism (submitted materials which are not your work) is a serious crime and any misconduct shall be punished with the university regulations. This includes the use of generative tools such as ChatGPT.\n",
    "\n",
    "**ENSURE THAT YOU SAVE ALL RESULTS / ANSWERS ON THE QUESTIONS (EVEN IF YOU RE-USE SOME CODE).**"
   ]
  },
  {
   "cell_type": "code",
   "execution_count": 1,
   "metadata": {
    "ExecuteTime": {
     "end_time": "2023-04-25T19:03:50.386646Z",
     "start_time": "2023-04-25T19:03:48.873300Z"
    },
    "id": "GAeEp0U-Y3iQ"
   },
   "outputs": [],
   "source": [
    "import numpy as np\n",
    "import cv2\n",
    "import matplotlib.pyplot as plt\n",
    "from scipy import signal\n",
    "from scipy.ndimage import maximum_filter\n",
    "from scipy import signal\n",
    "import os\n",
    "import matplotlib\n",
    "import scipy"
   ]
  },
  {
   "cell_type": "code",
   "execution_count": 2,
   "metadata": {
    "ExecuteTime": {
     "end_time": "2023-04-25T19:03:50.430240Z",
     "start_time": "2023-04-25T19:03:50.423708Z"
    },
    "id": "xV8GpbcMY3iR"
   },
   "outputs": [],
   "source": [
    "# Make sure you're using the provided environment!\n",
    "assert cv2.__version__ == \"3.4.2\", \"You're not using the provided Python environment!\"\n",
    "assert np.__version__ == \"1.19.5\", \"You're not using the provided Python environment!\"\n",
    "assert matplotlib.__version__ == \"3.3.4\", \"You're not using the provided Python environment!\"\n",
    "assert scipy.__version__ == \"1.5.4\", \"You're not using the provided Python environment!\"\n",
    "# Proceed to the next cell if you don't get any error."
   ]
  },
  {
   "cell_type": "markdown",
   "metadata": {
    "id": "DIv42yEGY3iS"
   },
   "source": [
    "# 1. Harris Corner Detector (45pts)\n",
    "In this section, a derivation of the *[Harris Corner Detector](https://www.semanticscholar.org/paper/A-Combined-Corner-and-Edge-Detector-Harris-Stephens/6818668fb895d95861a2eb9673ddc3a41e27b3b3)* is presented.\n",
    "\n",
    "Given a shift $(\\Delta x,\\Delta y)$ at a point $(x, y)$, the auto-correlation function is defined as:\n",
    "\n",
    "$$c(\\Delta x,\\Delta y) = \\sum\\limits_{(x,y)\\in W(x,y)} {w(x,y)(I(x+\\Delta x,y+\\Delta y)-I(x,y))^2} \\tag {1}$$\n",
    "\n",
    "where $W(x,y)$ is a window centered at point $(x,y)$ and $w(x,y)$ is a Gaussian function. For simplicity, from now on, $\\sum\\limits_{(x,y)\\in W(x,y)}$ will be referred to as $\\sum\\limits_{W}$.\n",
    "Approximating the shifted function by the first-order Taylor expansion we get:\n",
    "\n",
    "\\begin{eqnarray}\n",
    "I(x+\\Delta x,y+ \\Delta y) & \\approx & I(x,y) + I_x(x,y)\\Delta x + I_y(x,y)\\Delta y \\tag {2} \\\\\n",
    "&=& I(x,y) + [I_x(x,y) \\ I_y(x,y)] \\begin{bmatrix} \\Delta x \\\\ \\Delta y \\end{bmatrix}, \\tag {3}\n",
    "\\end{eqnarray}\n",
    "\n",
    "where $I_x$ and $I_y$ are partial derivatives of $I(x,y)$. The first gradients can be approximated by:\n",
    "\\begin{eqnarray}\n",
    "    I_x &=& \\frac{\\partial I}{\\partial x} \\approx I * G_x, \\quad G_x = (-1,0,1) \\tag {4} \\\\\n",
    "    I_y &=& \\frac{\\partial I}{\\partial y} \\approx I * G_y, \\quad G_y = (-1,0,1)^T \\tag {5}\n",
    "\\end{eqnarray}\n",
    "\n",
    "\n",
    "Note that using the kernel $(-1, 1)$ to approximate the gradients is also correct. The auto-correlation function can now be written as:\n",
    "\\begin{eqnarray}\n",
    "c(\\Delta x,\\Delta y) &=& \\sum\\limits_{W} {w(x,y) (I(x+\\Delta x,y+\\Delta y)-I(x,y))^2} \\tag {6} \\\\\n",
    "& \\approx & \\sum\\limits_{W} {w(x,y) ([I_x(x,y) \\ I_y(x,y)]\\begin{bmatrix} \\Delta x \\\\\n",
    "\\Delta y \\end{bmatrix})^2} \\tag {7} \\\\\n",
    "&=& [\\Delta x \\ \\Delta y]Q(x,y)\\begin{bmatrix} \\Delta x \\\\ \\Delta y \\end{bmatrix}, \\, \\tag {8}\n",
    "\\end{eqnarray}\n",
    "\n",
    "where $Q(x,y)$ is given by:\n",
    "\n",
    "\\begin{eqnarray}\n",
    "Q(x,y) &=& \\sum\\limits_{W} w(x,y){\\begin{bmatrix} I_x(x,y)^2  & I_x(x,y)I_y(x,y)  \\\\  I_x(x,y)I_y(x,y)  & I_y(x,y)^2   \\end{bmatrix}} \\tag {9} \\\\\n",
    "&=& \\begin{bmatrix}\n",
    "\\sum\\limits_{W}{I_x(x,y)^2} * w(x, y) & \\sum\\limits_{W}{I_x(x,y)I_y(x,y)} * w(x, y) \\\\  \n",
    "\\sum\\limits_{W}{I_x(x,y)I_y(x,y)} * w(x, y) & \\sum\\limits_{W}{I_y(x,y)^2} * w(x, y)  \\end{bmatrix} \\tag {10}\\\\\n",
    "&=& \\begin{bmatrix} A & B \\\\  B & C  \\end{bmatrix}.\\, \\tag {11}\n",
    "\\end{eqnarray}"
   ]
  },
  {
   "cell_type": "markdown",
   "metadata": {
    "id": "VutIGiJgY3ig"
   },
   "source": [
    "The *cornerness* $H(x,y)$ is defined by the two eigenvalues of $Q(x,y)$, e.g. $\\lambda_1$ and $\\lambda_2$:\n",
    "\n",
    "\\begin{eqnarray}\n",
    "\\label{eq12}\n",
    "H &=& \\lambda_1 \\lambda_2 - 0.04(\\lambda_1 + \\lambda_2)^2 \\tag{12}\\\\\n",
    "&=& det(Q) - 0.04(trace(Q))^2 \\tag{13}\\\\\n",
    "&=& (AC - B^2) - 0.04(A+C)^2. \\ \\tag{14}\n",
    "\\end{eqnarray}\n",
    "\n",
    "In this section, you are going to implement $Equation ~\\eqref{eq12}$ to calculate $H$ and use it to detect the corners in an image."
   ]
  },
  {
   "cell_type": "markdown",
   "metadata": {
    "id": "MPM2bNz3Y3ig"
   },
   "source": [
    "**Hint**: For that purpose, you need to compute the elements of **Q**, i.e. $A$, $B$ and $C$. To do that, you need to calculate $I_x$, which is the smoothed derivative of the image. That can be obtained by convolving the first order Gaussian derivative, $G_d$, with the image $I$ along the x-direction. Then, **A** can be obtained by squaring $I_x$, and then convolving it with a Gaussian, $G$. Similarly, **B** and **C** can be obtained. For example, to get **C**, you need to convolve the image with $G_d$ along the y-direction (to obtain $I_y$), raise it to the square, then convolve it with $G$."
   ]
  },
  {
   "cell_type": "markdown",
   "metadata": {
    "id": "r1gbW704Y3ih"
   },
   "source": [
    "**Hint**: The corner points are the local maxima of **H**. Therefore, you should check for every point in $H$, (1) if it is greater than all its neighbours (in an $n \\times n$ window centered around this point) and (2) if it is greater than the user-defined threshold. If both conditions are met, then the point is labeled as a corner point."
   ]
  },
  {
   "cell_type": "markdown",
   "metadata": {
    "id": "vRo9uIy2Y3ih"
   },
   "source": [
    "## Question 1.1 (35-*pts*)\n",
    "    \n",
    "**1.1.1** Create a function to implement the Harris Corner Detector. Your function should return matrix $H$, the indices of rows of the detected corner points **r**, and the indices of columns of those points **c**, where the first corner is given by $(r[0],c[0])$. **[20pts]**\n",
    "\n",
    "    \n",
    "**1.1.2** Implement another function that plots three figures: The computed image derivatives $I_x$ and $I_y$, and the original image with the corner points plotted on it. Show your results on example images **checkerboard.jpg** and **house.jpg**. Remember to experiment with different threshold values to see the impact on which corners are found. **[5pts]**\n",
    "    \n",
    "    \n",
    "**1.1.3** Is the algorithm rotation-invariant? How about your implementation? Rotate **checkerboard.jpg** image 45 and 90 degrees and run the Harris Corner Detector algorithm on the rotated images. Explain your answer and support it with your observations. **[10pts]**\n",
    "\n",
    "*Note:* You are allowed to use *scipy.signal.convolve2d* to perform convolution, and *scipy.ndimage.gaussian\\_filter* to obtain your image derivatives.\n",
    "Include a demo function to run your code."
   ]
  },
  {
   "cell_type": "code",
   "execution_count": null,
   "metadata": {
    "ExecuteTime": {
     "end_time": "2023-04-25T19:03:50.472670Z",
     "start_time": "2023-04-25T19:03:50.447207Z"
    },
    "id": "Tgd3GwuzY3ii"
   },
   "outputs": [],
   "source": [
    "def img2gray(img_path):\n",
    "    img_gray = cv2.imread(img_path, cv2.IMREAD_GRAYSCALE)\n",
    "    return img_gray\n",
    "\n",
    "def gradient_x(img_gray):\n",
    "    \"\"\"\n",
    "    Compute and return the derivative of the image in the x direction\n",
    "    \"\"\"\n",
    "    # --------------\n",
    "    # YOUR CODE HERE\n",
    "    # --------------\n",
    "    raise NotImplementedError()\n",
    "\n",
    "def gradient_y(img_gray):\n",
    "    \"\"\"\n",
    "    Compute and return the derivative of the image in the y direction\n",
    "    \"\"\"\n",
    "    # --------------\n",
    "    # YOUR CODE HERE\n",
    "    # --------------\n",
    "    raise NotImplementedError()\n",
    "\n",
    "def haris_corner_detector(img_path, sigma, threshold):\n",
    "    \"\"\"\n",
    "    Implement the Harris Corner Detector function as described above.\n",
    "    Remember, your function should return matrix H, the indices of rows of\n",
    "    the detected corner points r, and the indices of columns of those points\n",
    "    c, where the first corner is given by (r[0],c[0]).\n",
    "    \"\"\"\n",
    "    # --------------\n",
    "    # YOUR CODE HERE\n",
    "    # --------------\n",
    "    raise NotImplementedError()\n",
    "\n",
    "\n",
    "# --------------\n",
    "# YOUR CODE HERE\n",
    "# --------------\n",
    "# If you need to test your function"
   ]
  },
  {
   "cell_type": "code",
   "execution_count": null,
   "metadata": {
    "ExecuteTime": {
     "end_time": "2023-04-25T19:03:50.514639Z",
     "start_time": "2023-04-25T19:03:50.480179Z"
    },
    "id": "LIZMUYHqY3ii"
   },
   "outputs": [],
   "source": [
    "# Now implement another function that plots three figures: The computed image\n",
    "# derivatives  𝐼_x, 𝐼_y and the original image with the corner points plotted\n",
    "# on it. Show your results on example images checkerboard.jpg and\n",
    "# house.jpg. Remember to experiment with different threshold values\n",
    "# to see the impact on which corners are found.\n",
    "\n",
    "# Import the images\n",
    "img_path_checkerboard = './data/checkerboard.jpg'\n",
    "img_path_house = './data/house.jpg'\n",
    "\n",
    "img_checkerboard = img2gray(img_path_checkerboard)\n",
    "img_house = img2gray(img_path_house)\n",
    "\n",
    "# --------------\n",
    "# YOUR CODE HERE\n",
    "# --------------\n",
    "# Solve the rest of the exercise as asked above."
   ]
  },
  {
   "cell_type": "markdown",
   "metadata": {
    "id": "T6trf1KOY3ij"
   },
   "source": [
    "*TYPE YOUR ANSWER HERE*"
   ]
  },
  {
   "cell_type": "markdown",
   "metadata": {
    "id": "rp-0pndfY3ij"
   },
   "source": [
    "## Question 1.2 (10-*pts*)\n",
    "    \n",
    "Now you have seen the cornerness definition of Harris on $Equation ~(12)$. Another relevant definition of cornerness is defined by  *[Shi and Tomasi](https://ieeexplore.ieee.org/document/323794)*, after the original definition of Harris. Check their algorithm and answer the following questions:\n",
    "    \n",
    "**1.2.1** How do they define cornerness? Write down their definition using the notations of $Equation ~(12)$. **[3pts]**\n",
    "    "
   ]
  },
  {
   "cell_type": "markdown",
   "metadata": {
    "id": "N-SWAfreY3ij"
   },
   "source": [
    "*YOUR ANSWER HERE*"
   ]
  },
  {
   "cell_type": "markdown",
   "metadata": {
    "id": "X-ifyTbVY3ij"
   },
   "source": [
    "**1.2.2** Does the Shi-Tomasi Corner Detector satisfy the following properties: translation invariance, rotation invariance, scale invariance? Explain your reasoning for each property. **[4pts]**\n",
    "    "
   ]
  },
  {
   "cell_type": "markdown",
   "metadata": {
    "ExecuteTime": {
     "end_time": "2023-04-25T18:29:50.303021Z",
     "start_time": "2023-04-25T18:29:50.296090Z"
    },
    "id": "sOMd89jiY3ik"
   },
   "source": [
    "*YOUR ANSWER HERE*"
   ]
  },
  {
   "cell_type": "markdown",
   "metadata": {
    "id": "IgG22CLHY3ik"
   },
   "source": [
    "**1.2.3** In the following scenarios, what could be the relative cornerness values assigned by Shi and Tomasi? Explain your reasoning. **[3pts]**\n",
    "\n",
    "1. Both eigenvalues are near 0.\n",
    "    \n",
    "2. One eigenvalue is big and the other is near zero.\n",
    "    \n",
    "3. Both eigenvalues are big."
   ]
  },
  {
   "cell_type": "markdown",
   "metadata": {
    "id": "HpDKMEjJY3ik"
   },
   "source": [
    "*YOUR ANSWER HERE*"
   ]
  },
  {
   "cell_type": "markdown",
   "metadata": {
    "id": "tPyNLN1LY3ik"
   },
   "source": [
    "# 2. Optical Flow - Lucas-Kanade Algorithm (35pts)"
   ]
  },
  {
   "cell_type": "markdown",
   "metadata": {
    "id": "Mp52kOiTY3ik"
   },
   "source": [
    "Optical flow is the apparent motion of image pixels or regions from one frame to the next, which results from moving objects in the image or from camera motion. Underlying optical flow is typically an assumption of $\\textit{brightness constancy}$. That is the image values (brightness, color, etc) remain constant over time, though their 2D position in the image may change. Algorithms for estimating optical flow exploit this assumption in various ways to compute a velocity field that describes the horizontal and vertical motion of every pixel in the image. For a 2D+t dimensional case a voxel at location $(x, y, t)$ with intensity $I(x, y, t)$ will have moved by $\\delta_x$, $\\delta_y$ and $\\delta_t$ between the two image frames, and the following image constraint equation can be given:\n",
    "\n",
    "\\begin{equation}\n",
    "I(x,y,t) = I(x+\\delta_x, y+\\delta_y, t+\\delta_t). \\tag{15}\n",
    "\\end{equation}\n",
    "\n",
    "Assuming the movement to be small, the image constraint at I(x, y, t) can be extended using Taylor series, truncated to first-order terms:\n",
    "\n",
    "\\begin{equation}\n",
    "\\tag{16}\n",
    "I(x+\\delta_x, y+\\delta_y, t+\\delta_t) = I(x,y,t)+\\frac{\\partial I}{\\partial x}\\delta_x +\\frac{\\partial I}{\\partial y}\\delta_y+\\frac{\\partial I}{\\partial t}\\delta_t\n",
    "\\end{equation}\n",
    "\n",
    "Since we assume changes in the image can purely be attributed to movement, we will get:\n",
    "\n",
    "\\begin{equation}\n",
    "\\tag{17}\n",
    "\\frac{\\partial I}{\\partial x}\\frac{\\delta_x}{\\delta_t} +   \\frac{\\partial I}{\\partial y}\\frac{\\delta_y}{\\delta_t} + \\frac{\\partial I}{\\partial t}\\frac{\\delta_t}{\\delta_t} = 0\n",
    "\\end{equation}\n",
    "\n",
    "or\n",
    "\n",
    "\\begin{equation}\n",
    "\\tag{18}\n",
    "I_x V_x + I_y V_y = -I_t,\n",
    "\\end{equation}\n",
    "\n",
    "where $V_x$ and $V_y$ are the $x$ and $y$ components of the velocity or optical flow of $I(x,y,t)$. Further, $I_x$, $I_y$ and $I_t$ are the derivatives of the image at $(x, y, t)$ in the corresponding directions, which defines the main equation of optical flow.\n",
    "\n",
    "Optical flow is difficult to compute for two main reasons. First, in image regions that are roughly homogeneous, the optical flow is ambiguous, because the brightness constancy assumption is satisfied by many different motions. Second, in real scenes, the assumption is violated at motion boundaries and by miscellaneous lighting, non-rigid motions, shadows, transparency, reflections, etc. To address the former, all optical flow methods make some sort of assumption about the spatial variation of the optical flow that is used to resolve the ambiguity. Those are just assumptions about the world which are approximate and consequently may lead to errors in the flow estimates. The latter problem can be addressed by making much richer but more complicated assumptions about the changing image brightness or, more commonly, using robust statistical methods which can deal with 'violations' of the brightness constancy assumption."
   ]
  },
  {
   "cell_type": "markdown",
   "metadata": {
    "id": "jT7t1MFHY3ik"
   },
   "source": [
    "## Lucas-Kanade Algorithm"
   ]
  },
  {
   "cell_type": "markdown",
   "metadata": {
    "id": "iLgTbeQ8Y3ik"
   },
   "source": [
    "We will be implementing the [Lucas-Kanade method](https://www.ri.cmu.edu/pub_files/pub3/lucas_bruce_d_1981_2/lucas_bruce_d_1981_2.pdf) for Optical Flow estimation. This method assumes that the optical flow is essentially constant in a local neighborhood of the pixel under consideration. Therefore, the main equation of the optical flow can be assumed to hold for all pixels within a window centered at the pixel under consideration. Let's consider pixel $p$. Then, for all pixels around $p$, the local image flow vector $(V_x, V_y)$ must satisfy:\n",
    "\n",
    "\\begin{array}{c}\n",
    "\\tag{19}\n",
    "  I_x(q_1)V_x + I_y(q_1)V_y = - I_t(q_1)\\\\\n",
    "  I_x(q_2)V_x + I_y(q_2)V_y = - I_t(q_2)\\\\\n",
    "  \\vdots \\\\\n",
    "  I_x(q_n)V_x + I_y(q_n)V_y = - I_t(q_n),\\\\\n",
    "\\end{array}\n",
    "\n",
    "where $q_1$, $q_2$, ... $q_n$ are the pixels inside the window around $p$. $I_x(q_i)$, $I_y(q_i)$, $I_t(q_i)$ are the partial derivatives of the image $I$ with respect to position $x$, $y$ and time $t$, evaluated at the point $q_i$ and at the current time.\n",
    "\n",
    "These equations can be written in matrix to form $Av=b$, where\n",
    "\n",
    "\\begin{equation}\n",
    "\\tag{20}\n",
    "A = \\begin{bmatrix}\n",
    "I_x(q_1) & I_y(q_1)\\\\\n",
    "I_x(q_2) & I_y(q_2)\\\\\n",
    "\\vdots   & \\vdots  \\\\\n",
    "I_x(q_n) & I_y(q_n)\n",
    "\\end{bmatrix},\n",
    "v = \\begin{bmatrix}\n",
    "V_x\\\\ V_y\n",
    "\\end{bmatrix}, \\mbox{ and }\n",
    "b = \\begin{bmatrix}\n",
    "-I_t(q_1)\\\\\n",
    "-I_t(q_2)\\\\\n",
    "\\vdots   \\\\\n",
    "-I_t(q_n)\n",
    "\\end{bmatrix}.\n",
    "\\end{equation}\n",
    "\n",
    "This system has more equations than unknowns and thus it is usually over-determined. The Lucas-Kanade method obtains a compromise solution by the weighted-least-squares principle. Namely, it solves the $2\\times 2$ system as\n",
    "\n",
    "\\begin{equation}\n",
    "\\tag{21}\n",
    "A^T A v = A^T b\n",
    "\\end{equation}\n",
    "\n",
    "or\n",
    "\n",
    "\\begin{equation}\n",
    "v = (A^T A)^{-1} A^T b.\n",
    "\\label{eqA} \\tag{22}\n",
    "\\end{equation}"
   ]
  },
  {
   "cell_type": "markdown",
   "metadata": {
    "id": "Y5RpJsClY3ik"
   },
   "source": [
    "## Question 2.1 (30-*pts*)\n",
    "    \n",
    "For this assignment, you will be given three pairs of images: **sphere1.ppm**, **sphere2.ppm**; **car1.jpg**, **car2.jpg**; and **plant1.png**, **plant2.png**. You should estimate the optical flow between these two pairs. That is, you will get optical flow for sphere images, and for car and plant images separately. Implement the Lucas-Kanade algorithm using the following steps.\n",
    "\n",
    "    \n",
    "1. Divide  input  images  on  non-overlapping  regions,  each  region  being  $20\\times 20$.\n",
    "    \n",
    "    \n",
    "2. For each region compute $A$, $A^T$ and $b$. Then, estimate optical flow as given in Equation 22.\n",
    "    \n",
    "    \n",
    "3. When you have estimation for optical flow $(V_x, V_y)$ of each region, you should display the results. There is a **matplotlib** function `quiver` which plots a set of two-dimensional vectors as arrows on the screen. Try to figure out how to use this to show your optical flow results.\n",
    "\n",
    "<em>Note</em>: You are allowed to use `scipy.signal.convolve2d` to perform convolution.\n",
    "Include a demo function to run your code."
   ]
  },
  {
   "cell_type": "markdown",
   "metadata": {
    "id": "sK2ApACRY3il"
   },
   "source": [
    "**Hint**: You can use regions that are $20\\times 20$ pixels that are non-overlapping. That is, if input images are $256\\times 256$, you should have an array of $12\\times 12$ optical flow vectors at the end of your procedure. As we consider $20\\times 20$ regions, your matrix $\\textbf{A}$ will have the following size $400\\times 2$, and the vector $\\mathbf{b}$ will be $400\\times 1$.\n",
    "\n",
    "**Hint**: Carefully read the documentation of **matplotlib**'s function `quiver`. By default, the angles of the arrows are 45 degrees counter-clockwise from the horizontal axis. This means your arrows might point in the wrong direction! Also, play around with the arrow scaling."
   ]
  },
  {
   "cell_type": "code",
   "execution_count": 135,
   "metadata": {},
   "outputs": [
    {
     "name": "stdout",
     "output_type": "stream",
     "text": [
      "10 10\n"
     ]
    },
    {
     "data": {
      "image/png": "[encoded data removed]",
      "text/plain": [
       "<Figure size 432x288 with 1 Axes>"
      ]
     },
     "metadata": {
      "needs_background": "light"
     },
     "output_type": "display_data"
    },
    {
     "name": "stdout",
     "output_type": "stream",
     "text": [
      "24 32\n"
     ]
    },
    {
     "data": {
      "image/png": "[encoded data removed]",
      "text/plain": [
       "<Figure size 432x288 with 1 Axes>"
      ]
     },
     "metadata": {
      "needs_background": "light"
     },
     "output_type": "display_data"
    },
    {
     "name": "stdout",
     "output_type": "stream",
     "text": [
      "19 29\n"
     ]
    },
    {
     "data": {
      "image/png": "[encoded data removed]",
      "text/plain": [
       "<Figure size 432x288 with 1 Axes>"
      ]
     },
     "metadata": {
      "needs_background": "light"
     },
     "output_type": "display_data"
    }
   ],
   "source": [
    "def load_images(name_image_t0, name_image_t1, image_dir=\"./data/\"):\n",
    "    # Load the two images\n",
    "    I_t0 = cv2.imread(image_dir + name_image_t0, 0)\n",
    "    I_t1 = cv2.imread(image_dir + name_image_t1, 0)\n",
    "\n",
    "    # Convert the to np.float32\n",
    "    I_t0 = I_t0.astype(np.float32)\n",
    "    I_t1 = I_t1.astype(np.float32)\n",
    "\n",
    "    return I_t0, I_t1\n",
    "\n",
    "def calculate_derivatives(I_t0, I_t1):\n",
    "    \"\"\"\n",
    "    Obtain x, y and time derivatives of an image.\n",
    "    \"\"\"\n",
    "    kernel = np.array([[-1,-2,-1],\n",
    "                     [0,0,0],\n",
    "                     [1,2,1]])\n",
    "    \n",
    "    I_x = scipy.signal.convolve2d(I_t0, kernel.T, mode='same')\n",
    "    I_y = scipy.signal.convolve2d(I_t0, kernel, mode='same')\n",
    "    \n",
    "    I_t = I_t1 - I_t0\n",
    "    \n",
    "    return I_x, I_y, I_t\n",
    "\n",
    "def calculate_subregions(I_t0, I_x, I_y, I_t, region_size):\n",
    "    \"\"\"\n",
    "    input: I_t0, I_x, I_y, I_t, region_size\n",
    "    I_t0: image at time t0\n",
    "    I_x: image x-derivative\n",
    "    I_y: image y-derivative\n",
    "    I_t: image time derivative\n",
    "    region_size: size of the subregions\n",
    "\n",
    "    output: sub_I_x, sub_I_y, sub_I_t\n",
    "    sub_I_x: subregions of the image x-derivative\n",
    "    sub_I_y: subregions of the image y-derivative\n",
    "    sub_I_t: subregions of the image time derivative\n",
    "    \"\"\"\n",
    "    sub_I_x = np.zeros([I_x.shape[0]//region_size, I_x.shape[1]//region_size, region_size, region_size])\n",
    "    sub_I_y = np.zeros([I_y.shape[0]//region_size, I_y.shape[1]//region_size, region_size, region_size])\n",
    "    sub_I_t = np.zeros([I_t.shape[0]//region_size, I_t.shape[1]//region_size, region_size, region_size])\n",
    "    \n",
    "    for i in range(I_t0.shape[0]//region_size):\n",
    "        for j in range(I_t0.shape[1]//region_size):\n",
    "            row_start = i * region_size\n",
    "            row_end = row_start + region_size\n",
    "            col_start = j * region_size\n",
    "            col_end = col_start + region_size\n",
    "            sub_I_x[i,j] = I_x[row_start:row_end, col_start:col_end]\n",
    "            sub_I_y[i,j] = I_y[row_start:row_end, col_start:col_end]\n",
    "            sub_I_t[i,j] = I_t[row_start:row_end, col_start:col_end]\n",
    "        \n",
    "    return sub_I_x, sub_I_y, sub_I_t\n",
    "\n",
    "# Function that computes A, A.T and b for each subregion. Then, estimate\n",
    "# optical flow (Vx, Vt) as given in Equation 22.\n",
    "def calculate_flow_vectors(I_x, I_y, I_t):\n",
    "    \"\"\"\n",
    "    Calculate the local image flow vector (Vx, Vy) for each subregion by\n",
    "    solving the linear system defined above.\n",
    "\n",
    "    Input: I_x, I_y, I_t\n",
    "    I_x, I_y, I_t: image derivatives\n",
    "\n",
    "    Output: Vx, Vy\n",
    "    Vx, Vy: Two lists containing, respectively, Vx, Vy of each subregion\n",
    "    \"\"\"\n",
    "    # --------------\n",
    "    \n",
    "    sub_I_x, sub_I_y, sub_I_t = calculate_subregions(I_t0, I_x, I_y, I_t, region_size)\n",
    "        \n",
    "    Vx = np.zeros((sub_I_x.shape[0], sub_I_x.shape[1]))\n",
    "    Vy = np.zeros((sub_I_y.shape[0], sub_I_y.shape[1]))\n",
    "    \n",
    "    for i in range(sub_I_x.shape[0]):\n",
    "        for j in range(sub_I_x.shape[1]):\n",
    "            #prepare the structures\n",
    "            Ix = sub_I_x[i,j,:,:].flatten()\n",
    "            Iy = sub_I_y[i,j,:,:].flatten()\n",
    "            It = sub_I_t[i,j,:,:].flatten()\n",
    "\n",
    "            A = np.vstack((Ix, Iy)).T\n",
    "            b = -It\n",
    "\n",
    "            #solve A^T.A v = A^T.b\n",
    "            A_inv = np.linalg.pinv(np.dot(A.T, A))\n",
    "            v = np.dot(np.dot(A_inv, A.T), b)\n",
    "\n",
    "            Vx[i,j] = v[0]\n",
    "            Vy[i,j] = v[1]\n",
    "\n",
    "    return Vx, Vy\n",
    "\n",
    "# Function that plots the optical flow vectors\n",
    "def plot_optical_flow(subregion_indices, V_x, V_y):\n",
    "    \"\"\"\n",
    "    Input: subregion_indices, V_x, V_y\n",
    "    subregion_indices: indices of the subregions\n",
    "    V_x, V_y: optical flow vectors\n",
    "    \"\"\"\n",
    "    X = subregion_indices[0]\n",
    "    Y = subregion_indices[1]\n",
    "\n",
    "    plt.quiver(X,Y, V_x, V_y, angles='xy', scale_units='xy', scale = 0.01, color='r')\n",
    "\n",
    "\n",
    "def create_subreg_ind(I_t0, region_size):\n",
    "    r = I_t0.shape[0]//region_size\n",
    "    c = I_t0.shape[1]//region_size\n",
    "    print(r, c)\n",
    "    # Generate the x, y coordinates for the centers of the subregions\n",
    "    x_indices = np.linspace(region_size // 2, I_t0.shape[0] - region_size // 2, r)\n",
    "    y_indices = np.linspace(region_size // 2, I_t0.shape[1] - region_size // 2, c)\n",
    "\n",
    "    X,Y = np.meshgrid(x_indices, y_indices)\n",
    "\n",
    "    return X,Y\n",
    "\n",
    "region_size = 20\n",
    "def demo_function(imname, imname2):\n",
    "    I_t0, I_t1 = load_images(imname, imname2)\n",
    "    I_x, I_y, I_t = calculate_derivatives(I_t0, I_t1)\n",
    "    Vx, Vy = calculate_flow_vectors(I_x, I_y, I_t)\n",
    "    subregion_indices = create_subreg_ind(I_t0, region_size)\n",
    "    plt.imshow(I_t0, cmap='gray', alpha=0.6)\n",
    "    plot_optical_flow(subregion_indices, Vx, Vy)\n",
    "    plt.show()\n",
    "\n",
    "demo_function('sphere1.ppm', 'sphere2.ppm')\n",
    "demo_function('car1.jpg', 'car2.jpg')\n",
    "demo_function('plant1.png', 'plant2.png')"
   ]
  },
  {
   "cell_type": "code",
   "execution_count": null,
   "metadata": {
    "ExecuteTime": {
     "end_time": "2023-04-25T19:03:50.549293Z",
     "start_time": "2023-04-25T19:03:50.530356Z"
    },
    "id": "0OJDTZMhY3il"
   },
   "outputs": [],
   "source": [
    "# Function that calulates subregions given corners\n",
    "def calculate_subregions_for_corners(I_x, I_y, I_t, r, c, region_size):\n",
    "    \"\"\"\n",
    "    Input: I_x, I_y, I_t, r, c, region_size\n",
    "    I_x, I_y, I_t: image derivatives\n",
    "    r, c: corners of the subregions\n",
    "    region_size: size of the subregions\n",
    "\n",
    "    Output: sub_I_x, sub_I_y, sub_I_t\n",
    "    sub_I_x, sub_I_y, sub_I_t: subregions of the image derivatives\n",
    "    \"\"\"\n",
    "    # --------------\n",
    "    num_corners = len(r)\n",
    "    \n",
    "    # Half size of the region for easy indexing\n",
    "    half_region = region_size // 2\n",
    "    \n",
    "    # Preallocate arrays for the subregions\n",
    "    sub_I_x = np.zeros((num_corners, region_size, region_size))\n",
    "    sub_I_y = np.zeros((num_corners, region_size, region_size))\n",
    "    sub_I_t = np.zeros((num_corners, region_size, region_size))\n",
    "    \n",
    "    for i in range(num_corners):\n",
    "        # Calculate the bounds of the subregion\n",
    "        row_start = r[i] - half_region\n",
    "        row_end = r[i] + half_region + 1\n",
    "        col_start = c[i] - half_region\n",
    "        col_end = c[i] + half_region + 1\n",
    "        \n",
    "        # Extract the subregions\n",
    "        sub_I_x[i] = I_x[row_start:row_end, col_start:col_end]\n",
    "        sub_I_y[i] = I_y[row_start:row_end, col_start:col_end]\n",
    "        sub_I_t[i] = I_t[row_start:row_end, col_start:col_end]\n",
    "    \n",
    "    return sub_I_x, sub_I_y, sub_I_t"
   ]
  },
  {
   "cell_type": "markdown",
   "metadata": {
    "id": "_c9UrNu0mK4y"
   },
   "source": [
    "*YOUR ANSWER HERE*"
   ]
  },
  {
   "cell_type": "markdown",
   "metadata": {
    "id": "C4DiRCZ4Y3il"
   },
   "source": [
    "## Question 2.2 (5-*pts*)"
   ]
  },
  {
   "cell_type": "markdown",
   "metadata": {
    "id": "6JW4Q56hY3im"
   },
   "source": [
    "Now you have seen one of the optical flow estimation methods developed by Lucas and Kanade. There are several more methods in the literature. The *[Horn-Schunck method](https://www.sciencedirect.com/science/article/abs/pii/0004370281900242)* is one of them. Check their method, compare it to Lucas-Kanade and answer the following questions:\n",
    "\n",
    "**2.2.1** At what scale do the algorithms operate; i.e local or global? Explain your answer.\n",
    "\n",
    "\n",
    "**2.2.2** How do the algorithms behave at flat regions? Explain differences/similarities."
   ]
  },
  {
   "cell_type": "markdown",
   "metadata": {
    "id": "WtFNQULZY3im"
   },
   "source": [
    "*YOUR ANSWER HERE*"
   ]
  },
  {
   "cell_type": "markdown",
   "metadata": {
    "id": "t9sTpJ1YY3im"
   },
   "source": [
    "# 3. Feature Tracking (20-pts)"
   ]
  },
  {
   "cell_type": "markdown",
   "metadata": {
    "id": "W765E6o2Y3im"
   },
   "source": [
    "In this part of the assignment, you will implement a simple feature-tracking algorithm. The aim is to extract visual features, like corners, and track them over multiple frames."
   ]
  },
  {
   "cell_type": "markdown",
   "metadata": {
    "id": "oTtBL0-7Y3in"
   },
   "source": [
    "## Question 3.1 (18-*pts*)\n",
    "\n",
    "**3.1.1** Implement a simple feature-tracking algorithm by following below steps **[12pts]**:\n",
    "    \n",
    "1. Locate feature points on the first frame by using the Harris Corner Detector, that you implemented in Section 1.\n",
    "\n",
    "2. Track these points using the Lucas-Kanade algorithm for optical flow estimation, that you implemented in the Section 2.\n",
    "    \n",
    "    \n",
    "**3.1.2** Prepare a video for each sample image sequences. These videos should visualize the initial feature points and the optical flow. Test your implementation and prepare visualization videos for **basketball** and **toy** samples. **[6pts]**"
   ]
  },
  {
   "cell_type": "markdown",
   "metadata": {
    "id": "SkYQgU5rY3in"
   },
   "source": [
    "Include a demo function to run your code."
   ]
  },
  {
   "cell_type": "code",
   "execution_count": null,
   "metadata": {
    "ExecuteTime": {
     "end_time": "2023-04-25T19:03:50.581822Z",
     "start_time": "2023-04-25T19:03:50.574406Z"
    },
    "id": "bEdKShJQY3in"
   },
   "outputs": [],
   "source": [
    "# --------------\n",
    "# YOUR CODE HERE\n",
    "# --------------"
   ]
  },
  {
   "cell_type": "markdown",
   "metadata": {
    "id": "_3O_9ZvyY3io"
   },
   "source": [
    "*YOUR ANSWER HERE*"
   ]
  },
  {
   "cell_type": "markdown",
   "metadata": {
    "id": "ehX3_Me0Y3io"
   },
   "source": [
    "## Question  3.2 (2-*pts*)"
   ]
  },
  {
   "cell_type": "markdown",
   "metadata": {
    "id": "kFvSqwVNY3io"
   },
   "source": [
    "Why do we need feature tracking even though we can detect features for each and every frame?"
   ]
  },
  {
   "cell_type": "markdown",
   "metadata": {
    "id": "DWTzoeX1Y3ip"
   },
   "source": [
    "*YOUR ANSWER HERE*"
   ]
  },
  {
   "cell_type": "markdown",
   "metadata": {
    "id": "uEeYJPdLoPrS"
   },
   "source": [
    "# X Individual Contribution Report *(Mandatory)*\n",
    "\n",
    "Because we want each student to contribute fairly to the submitted work, we ask you to fill out the textcells below. Write down your contribution to each of the assignment components in percentages. Naturally, percentages for one particular component should add up to 100% (e.g. 30% - 30% - 40%). No further explanation has to be given.\n"
   ]
  },
  {
   "cell_type": "markdown",
   "metadata": {
    "id": "f4b505e0"
   },
   "source": [
    "Name:\n",
    "\n",
    "Contribution on research: \\\n",
    "Contribution on programming: \\\n",
    "Contribution on writing:"
   ]
  },
  {
   "cell_type": "markdown",
   "metadata": {
    "id": "qFKwJfVmN92i"
   },
   "source": [
    "Name:\n",
    "\n",
    "Contribution on research: \\\n",
    "Contribution on programming: \\\n",
    "Contribution on writing:"
   ]
  },
  {
   "cell_type": "markdown",
   "metadata": {
    "id": "ndnhlE0WN959"
   },
   "source": [
    "Name:\n",
    "\n",
    "Contribution on research: \\\n",
    "Contribution on programming: \\\n",
    "Contribution on writing:"
   ]
  },
  {
   "cell_type": "markdown",
   "metadata": {
    "id": "nYQBu2hFN993"
   },
   "source": [
    "Name:\n",
    "\n",
    "Contribution on research: \\\n",
    "Contribution on programming: \\\n",
    "Contribution on writing:"
   ]
  },
  {
   "cell_type": "markdown",
   "metadata": {
    "id": "0-VF0NFNOB5T"
   },
   "source": [
    "# - End of notebook -"
   ]
  }
 ],
 "metadata": {
  "colab": {
   "provenance": []
  },
  "kernelspec": {
   "display_name": "Python 3",
   "language": "python",
   "name": "python3"
  },
  "language_info": {
   "codemirror_mode": {
    "name": "ipython",
    "version": 3
   },
   "file_extension": ".py",
   "mimetype": "text/x-python",
   "name": "python",
   "nbconvert_exporter": "python",
   "pygments_lexer": "ipython3",
   "version": "3.6.15"
  },
  "toc": {
   "base_numbering": 1,
   "nav_menu": {},
   "number_sections": true,
   "sideBar": true,
   "skip_h1_title": false,
   "title_cell": "Table of Contents",
   "title_sidebar": "Contents",
   "toc_cell": false,
   "toc_position": {},
   "toc_section_display": true,
   "toc_window_display": false
  },
  "varInspector": {
   "cols": {
    "lenName": 16,
    "lenType": 16,
    "lenVar": 40
   },
   "kernels_config": {
    "python": {
     "delete_cmd_postfix": "",
     "delete_cmd_prefix": "del ",
     "library": "var_list.py",
     "varRefreshCmd": "print(var_dic_list())"
    },
    "r": {
     "delete_cmd_postfix": ") ",
     "delete_cmd_prefix": "rm(",
     "library": "var_list.r",
     "varRefreshCmd": "cat(var_dic_list()) "
    }
   },
   "types_to_exclude": [
    "module",
    "function",
    "builtin_function_or_method",
    "instance",
    "_Feature"
   ],
   "window_display": false
  }
 },
 "nbformat": 4,
 "nbformat_minor": 1
}
